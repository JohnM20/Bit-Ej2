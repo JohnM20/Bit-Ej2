{
 "cells": [
  {
   "cell_type": "markdown",
   "metadata": {},
   "source": [
    "# SEGUNDO PUNTO PRUEBA DE SELECCIÓN BIT\n",
    "ASPIRANTE: John Muñoz"
   ]
  },
  {
   "cell_type": "code",
   "execution_count": 248,
   "metadata": {},
   "outputs": [],
   "source": [
    "# Carga de las respectivas librerias\n",
    "import glob\n",
    "import cv2\n",
    "import matplotlib.pyplot as plt\n",
    "from sklearn.model_selection import train_test_split\n",
    "import pandas as pd\n",
    "import numpy as np\n",
    "import keras\n",
    "from keras.utils import np_utils\n",
    "from keras.utils import to_categorical\n",
    "from keras.models import Sequential,Input,Model\n",
    "from keras.layers import Dense, Dropout, Flatten\n",
    "from keras.layers import Conv2D, MaxPooling2D\n",
    "from keras.layers.normalization import BatchNormalization\n",
    "from keras.layers.advanced_activations import LeakyReLU"
   ]
  },
  {
   "cell_type": "markdown",
   "metadata": {},
   "source": [
    "Las imagenes para entrenar el DataSet se encuentran en la carpeta figuras - se indexa desde 0"
   ]
  },
  {
   "cell_type": "code",
   "execution_count": 249,
   "metadata": {},
   "outputs": [
    {
     "name": "stdout",
     "output_type": "stream",
     "text": [
      "imagenes que se cargaron: \n",
      "18\n"
     ]
    },
    {
     "data": {
      "image/png": "[encoded data removed]",
      "text/plain": [
       "<Figure size 432x288 with 1 Axes>"
      ]
     },
     "metadata": {
      "needs_background": "light"
     },
     "output_type": "display_data"
    }
   ],
   "source": [
    "# Carga de las respectivas librerias\n",
    "X = [cv2.imread(file,0) for file in glob.glob(\"figuras/*.png\")]\n",
    "# Se realiza la selección del indice para probar la carga exitosa de las imagenes\n",
    "prueba= X[17]\n",
    "plt.imshow(prueba)\n",
    "print(\"imagenes que se cargaron: \")\n",
    "print(len(X))"
   ]
  },
  {
   "cell_type": "markdown",
   "metadata": {},
   "source": [
    "Se define un modelo CNN, el cuál reconoce las caracteristicas de las imagenes aplicando convolución y algoritmos de identificación de las imagenes."
   ]
  },
  {
   "cell_type": "code",
   "execution_count": 250,
   "metadata": {},
   "outputs": [],
   "source": [
    "def modelo_clasificador():\n",
    "    model=Sequential()\n",
    "    model.add(Conv2D(8, (20, 20), activation='relu', input_shape=(1,200,200),data_format='channels_first'))\n",
    "    model.add(MaxPooling2D(pool_size=(2,2)))\n",
    "    model.add(Dropout(0.2))\n",
    "    model.add(Flatten())\n",
    "    model.add(Dense(128,activation='relu'))\n",
    "    model.add(Dense(4,activation='softmax'))\n",
    "    model.compile(loss='categorical_crossentropy',optimizer='adam',metrics=['accuracy'])\n",
    "    return model"
   ]
  },
  {
   "cell_type": "markdown",
   "metadata": {},
   "source": [
    "De las 18 imagenes se crea la respectiva etiqueta las 6 primeras equivalen a circulos, las 6 siguientes a cuadrados que corresponden al número 2 y las 6 últimas a triangulos.\n",
    "\n",
    "Se emplea el comando categorical, con el fin de expresar la información como datos entre 0 y 1\n",
    "así por ejemplo 3 equivale a [0. 0. 1. 0.]"
   ]
  },
  {
   "cell_type": "code",
   "execution_count": 263,
   "metadata": {},
   "outputs": [
    {
     "name": "stdout",
     "output_type": "stream",
     "text": [
      "Forma Matriz de entrenamiento:  (14, 200, 200)\n",
      "Forma Matriz de validación:  (4, 200, 200)\n",
      "Forma Matriz de entrenamiento objetivos:  (14, 4)\n",
      "Forma Matriz de validación:  (4, 4)\n"
     ]
    }
   ],
   "source": [
    "# Vector con el equivalente a cada imagen.\n",
    "Y= [1,1,1,1,1,1,1,2,2,2,2,2,2,2,3,3,3,3]\n",
    "\n",
    "# De las 18 imagenes se emplea el 80% para entrenamiento y las demas para hacer el test.\n",
    "train_X,test_X,train_Y,test_Y = train_test_split(X,Y,test_size=0.2)\n",
    "\n",
    "# Se hace el cambio de nomenclatura de train_X a Train_x porque se convierten las listas en arreglos de numpy\n",
    "Train_X = np.array(train_X).astype('float32')\n",
    "Test_X = np.array(test_X).astype('float32')\n",
    "Train_X = Train_X / 255.\n",
    "Test_X = Test_X / 255.\n",
    "y_train=np_utils.to_categorical(train_Y)\n",
    "y_test=np_utils.to_categorical(test_Y)\n",
    "\n",
    "# Se imprimen los datos de ingreso a la red neuronal\n",
    "print (\"Forma Matriz de entrenamiento: \",Train_X.shape)\n",
    "print (\"Forma Matriz de validación: \",Test_X.shape)\n",
    "print (\"Forma Matriz de entrenamiento objetivos: \",y_train.shape)\n",
    "print (\"Forma Matriz de validación: \",y_test.shape)\n",
    "\n"
   ]
  },
  {
   "cell_type": "markdown",
   "metadata": {},
   "source": [
    "Para la adecuación de la red neuronal, se ajusta la matriz de entrada de entrenamiento \n",
    "porque la forma que tiene (14,200,200) no coincide con la entrada de la red neuronal \n",
    "porque esta solicita un canal adicional (14,1,200,200"
   ]
  },
  {
   "cell_type": "code",
   "execution_count": 264,
   "metadata": {},
   "outputs": [
    {
     "name": "stdout",
     "output_type": "stream",
     "text": [
      "------------------------- Datos adecuados --------------------------\n",
      "Forma Matriz de entrenamiento:  (14, 1, 200, 200)\n",
      "Forma Matriz de validación:  (4, 1, 200, 200)\n"
     ]
    }
   ],
   "source": [
    "print (\"------------------------- Datos adecuados --------------------------\")\n",
    "Train_X=Train_X.reshape(Train_X.shape[0],1,200,200).astype('float32')\n",
    "Test_X=Test_X.reshape(Test_X.shape[0],1,200,200).astype('float32')\n",
    "print (\"Forma Matriz de entrenamiento: \",Train_X.shape)\n",
    "print (\"Forma Matriz de validación: \",Test_X.shape)"
   ]
  },
  {
   "cell_type": "markdown",
   "metadata": {},
   "source": [
    "Por último se realiza la etapa de entrenamiento de la red, con 10 repeticiones"
   ]
  },
  {
   "cell_type": "code",
   "execution_count": 265,
   "metadata": {},
   "outputs": [
    {
     "name": "stdout",
     "output_type": "stream",
     "text": [
      "Model: \"sequential_71\"\n",
      "_________________________________________________________________\n",
      "Layer (type)                 Output Shape              Param #   \n",
      "=================================================================\n",
      "conv2d_71 (Conv2D)           (None, 8, 181, 181)       3208      \n",
      "_________________________________________________________________\n",
      "max_pooling2d_62 (MaxPooling (None, 4, 90, 181)        0         \n",
      "_________________________________________________________________\n",
      "dropout_62 (Dropout)         (None, 4, 90, 181)        0         \n",
      "_________________________________________________________________\n",
      "flatten_61 (Flatten)         (None, 65160)             0         \n",
      "_________________________________________________________________\n",
      "dense_120 (Dense)            (None, 128)               8340608   \n",
      "_________________________________________________________________\n",
      "dense_121 (Dense)            (None, 4)                 516       \n",
      "=================================================================\n",
      "Total params: 8,344,332\n",
      "Trainable params: 8,344,332\n",
      "Non-trainable params: 0\n",
      "_________________________________________________________________\n",
      "Train on 14 samples, validate on 4 samples\n",
      "Epoch 1/10\n",
      " - 2s - loss: 1.2542 - accuracy: 0.5000 - val_loss: 16.5753 - val_accuracy: 0.5000\n",
      "Epoch 2/10\n",
      " - 1s - loss: 7.2023 - accuracy: 0.3571 - val_loss: 43.2143 - val_accuracy: 0.0000e+00\n",
      "Epoch 3/10\n",
      " - 1s - loss: 25.0023 - accuracy: 0.5000 - val_loss: 15.0303 - val_accuracy: 0.0000e+00\n",
      "Epoch 4/10\n",
      " - 1s - loss: 9.6630 - accuracy: 0.5000 - val_loss: 1.9275 - val_accuracy: 0.5000\n",
      "Epoch 5/10\n",
      " - 1s - loss: 1.0789 - accuracy: 0.3571 - val_loss: 1.3777 - val_accuracy: 0.5000\n",
      "Epoch 6/10\n",
      " - 1s - loss: 0.9450 - accuracy: 0.3571 - val_loss: 1.3119 - val_accuracy: 0.5000\n",
      "Epoch 7/10\n",
      " - 1s - loss: 0.8714 - accuracy: 0.5714 - val_loss: 1.3922 - val_accuracy: 0.2500\n",
      "Epoch 8/10\n",
      " - 1s - loss: 0.7905 - accuracy: 0.7143 - val_loss: 1.5858 - val_accuracy: 0.2500\n",
      "Epoch 9/10\n",
      " - 1s - loss: 0.7052 - accuracy: 0.6429 - val_loss: 1.9204 - val_accuracy: 0.2500\n",
      "Epoch 10/10\n",
      " - 1s - loss: 0.6634 - accuracy: 0.6429 - val_loss: 2.2267 - val_accuracy: 0.2500\n"
     ]
    },
    {
     "data": {
      "text/plain": [
       "<keras.callbacks.callbacks.History at 0x8e693244c8>"
      ]
     },
     "execution_count": 265,
     "metadata": {},
     "output_type": "execute_result"
    }
   ],
   "source": [
    "model=modelo_clasificador()\n",
    "model.summary()\n",
    "model.fit(Train_X, y_train, validation_data=(Test_X,y_test),epochs=10,batch_size=14,verbose=2)\n"
   ]
  },
  {
   "cell_type": "markdown",
   "metadata": {},
   "source": [
    "Se realiza la predicción de la figura en donde se obtiene el mayor puntaje en la posición donde se supone que se encuentra"
   ]
  },
  {
   "cell_type": "code",
   "execution_count": 266,
   "metadata": {},
   "outputs": [
    {
     "name": "stdout",
     "output_type": "stream",
     "text": [
      "[[0.00440872 0.77529496 0.01857845 0.20171785]]\n"
     ]
    }
   ],
   "source": [
    "prediction = model.predict(Test_X[3].reshape(1,1,200,200))\n",
    "print(prediction)"
   ]
  },
  {
   "cell_type": "code",
   "execution_count": 267,
   "metadata": {},
   "outputs": [
    {
     "name": "stdout",
     "output_type": "stream",
     "text": [
      "(1, 200, 200)\n"
     ]
    },
    {
     "data": {
      "text/plain": [
       "<matplotlib.image.AxesImage at 0x8e667b71c8>"
      ]
     },
     "execution_count": 267,
     "metadata": {},
     "output_type": "execute_result"
    },
    {
     "data": {
      "image/png": "[encoded data removed]",
      "text/plain": [
       "<Figure size 432x288 with 1 Axes>"
      ]
     },
     "metadata": {
      "needs_background": "light"
     },
     "output_type": "display_data"
    }
   ],
   "source": [
    "print(Test_X[3].shape)\n",
    "plt.imshow(Test_X[3].reshape(200,200))"
   ]
  },
  {
   "cell_type": "markdown",
   "metadata": {},
   "source": [
    "Donde el mayor puntaje(0.46) se encuentra en la 1 que equivale a circulos, lo cuál indica que le faltan más iteraciones e imagenes al sistema, sin embargo se prueba el modelo con las imagenes solicitadas en la prueba. Asi que se procede a realizar la carga :"
   ]
  },
  {
   "cell_type": "code",
   "execution_count": 268,
   "metadata": {},
   "outputs": [
    {
     "name": "stdout",
     "output_type": "stream",
     "text": [
      "[[0. 0. 0. 1.]]\n"
     ]
    },
    {
     "data": {
      "image/png": "[encoded data removed]",
      "text/plain": [
       "<Figure size 432x288 with 1 Axes>"
      ]
     },
     "metadata": {
      "needs_background": "light"
     },
     "output_type": "display_data"
    }
   ],
   "source": [
    "Circle = cv2.imread('dibujobit1.png', cv2.IMREAD_GRAYSCALE)\n",
    "plt.imshow(Circle)\n",
    "prediction = model.predict(Circle.reshape(1,1,200,200))\n",
    "print(prediction)\n"
   ]
  },
  {
   "cell_type": "code",
   "execution_count": 269,
   "metadata": {},
   "outputs": [
    {
     "name": "stdout",
     "output_type": "stream",
     "text": [
      "[[0. 0. 0. 1.]]\n"
     ]
    },
    {
     "data": {
      "image/png": "[encoded data removed]",
      "text/plain": [
       "<Figure size 432x288 with 1 Axes>"
      ]
     },
     "metadata": {
      "needs_background": "light"
     },
     "output_type": "display_data"
    }
   ],
   "source": [
    "Square = cv2.imread('dibujobit2.png', cv2.IMREAD_GRAYSCALE)\n",
    "plt.imshow(Square)\n",
    "prediction = model.predict(Square.reshape(1,1,200,200))\n",
    "print(prediction)"
   ]
  },
  {
   "cell_type": "code",
   "execution_count": 272,
   "metadata": {},
   "outputs": [
    {
     "name": "stdout",
     "output_type": "stream",
     "text": [
      "[[0.00000e+00 4.36807e-19 0.00000e+00 1.00000e+00]]\n"
     ]
    },
    {
     "data": {
      "image/png": "[encoded data removed]",
      "text/plain": [
       "<Figure size 432x288 with 1 Axes>"
      ]
     },
     "metadata": {
      "needs_background": "light"
     },
     "output_type": "display_data"
    }
   ],
   "source": [
    "Triangle = cv2.imread('dibujobit3.png', cv2.IMREAD_GRAYSCALE)\n",
    "plt.imshow(Triangle)\n",
    "prediction = model.predict(Triangle.reshape(1,1,200,200))\n",
    "print(prediction)"
   ]
  },
  {
   "cell_type": "code",
   "execution_count": 273,
   "metadata": {},
   "outputs": [
    {
     "name": "stdout",
     "output_type": "stream",
     "text": [
      "[2.226699113845825, 0.25]\n"
     ]
    }
   ],
   "source": [
    "scores=model.evaluate(Test_X,y_test,verbose=0)\n",
    "print(scores)"
   ]
  },
  {
   "cell_type": "code",
   "execution_count": null,
   "metadata": {},
   "outputs": [],
   "source": []
  }
 ],
 "metadata": {
  "kernelspec": {
   "display_name": "Python 3",
   "language": "python",
   "name": "python3"
  },
  "language_info": {
   "codemirror_mode": {
    "name": "ipython",
    "version": 3
   },
   "file_extension": ".py",
   "mimetype": "text/x-python",
   "name": "python",
   "nbconvert_exporter": "python",
   "pygments_lexer": "ipython3",
   "version": "3.7.7"
  }
 },
 "nbformat": 4,
 "nbformat_minor": 4
}
